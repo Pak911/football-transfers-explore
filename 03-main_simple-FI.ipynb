{
 "cells": [
  {
   "cell_type": "markdown",
   "metadata": {},
   "source": [
    "### Simple Feature Importance"
   ]
  },
  {
   "cell_type": "code",
   "execution_count": 13,
   "metadata": {
    "ExecuteTime": {
     "end_time": "2019-08-06T00:35:37.248466Z",
     "start_time": "2019-08-06T00:35:37.194845Z"
    }
   },
   "outputs": [],
   "source": [
    "%reload_ext autoreload\n",
    "%autoreload 2"
   ]
  },
  {
   "cell_type": "code",
   "execution_count": 14,
   "metadata": {
    "ExecuteTime": {
     "end_time": "2019-08-06T00:35:37.305512Z",
     "start_time": "2019-08-06T00:35:37.250609Z"
    }
   },
   "outputs": [],
   "source": [
    "from fastai.tabular import *"
   ]
  },
  {
   "cell_type": "code",
   "execution_count": 15,
   "metadata": {
    "ExecuteTime": {
     "end_time": "2019-08-06T00:35:37.357271Z",
     "start_time": "2019-08-06T00:35:37.307457Z"
    }
   },
   "outputs": [],
   "source": [
    "from fastai import tabular"
   ]
  },
  {
   "cell_type": "code",
   "execution_count": 16,
   "metadata": {
    "ExecuteTime": {
     "end_time": "2019-08-06T00:35:37.408004Z",
     "start_time": "2019-08-06T00:35:37.359805Z"
    }
   },
   "outputs": [],
   "source": [
    "from exp.nb_ import *"
   ]
  },
  {
   "cell_type": "code",
   "execution_count": 17,
   "metadata": {
    "ExecuteTime": {
     "end_time": "2019-08-06T00:35:37.463566Z",
     "start_time": "2019-08-06T00:35:37.410702Z"
    }
   },
   "outputs": [],
   "source": [
    "path=Path('../data/football/')"
   ]
  },
  {
   "cell_type": "code",
   "execution_count": 18,
   "metadata": {
    "ExecuteTime": {
     "end_time": "2019-08-06T00:35:37.541158Z",
     "start_time": "2019-08-06T00:35:37.465238Z"
    }
   },
   "outputs": [],
   "source": [
    "train_df = pd.read_pickle(path/'trans_over_1000_final.pkl')"
   ]
  },
  {
   "cell_type": "code",
   "execution_count": 19,
   "metadata": {
    "ExecuteTime": {
     "end_time": "2019-08-06T00:35:37.594451Z",
     "start_time": "2019-08-06T00:35:37.543023Z"
    }
   },
   "outputs": [],
   "source": [
    "cat_vars_tpl = ('season','trs_year','trs_month','trs_day','trs_till_deadline',\n",
    "            'contract_left_months', 'contract_left_years','age',\n",
    "            'is_midseason','is_loan','is_end_of_loan',\n",
    "            'nat_national_name','plr_position_main',\n",
    "            'plr_other_positions','plr_nationality_name',\n",
    "            'plr_other_nationality_name','plr_place_of_birth_country_name',\n",
    "            'plr_foot','plr_height','plr_player_agent','from_club_name','from_club_is_first_team',\n",
    "            'from_clb_place','from_clb_qualified_to','from_clb_is_champion','from_clb_is_cup_winner',\n",
    "            'from_clb_is_promoted','from_clb_lg_name','from_clb_lg_country','from_clb_lg_group',\n",
    "            'from_coach_name', 'from_sport_dir_name',\n",
    "            'to_club_name','to_club_is_first_team','to_clb_place','to_clb_qualified_to',\n",
    "            'to_clb_is_champion','to_clb_is_cup_winner','to_clb_is_promoted','to_clb_lg_name','to_clb_lg_country',\n",
    "            'to_clb_lg_group','to_coach_name', 'to_sport_dir_name',\n",
    "            'plr_position_0','plr_position_1','plr_position_2',\n",
    "            'stats_leag_name_0','stats_leag_grp_0','stats_leag_name_1','stats_leag_grp_1','stats_leag_name_2',\n",
    "            'stats_leag_grp_2')\n",
    "cont_vars_tpl = ('nat_months_from_debut','nat_matches_played','nat_goals_scored','from_clb_pts_avg',\n",
    "             'from_clb_goals_diff_avg','to_clb_pts_avg','to_clb_goals_diff_avg','plr_apps_0',\n",
    "             'plr_apps_1','plr_apps_2','stats_made_goals_0','stats_conc_gols_0','stats_cards_0',\n",
    "             'stats_minutes_0','stats_team_points_0','stats_made_goals_1','stats_conc_gols_1',\n",
    "             'stats_cards_1','stats_minutes_1','stats_team_points_1','stats_made_goals_2',\n",
    "             'stats_conc_gols_2','stats_cards_2','stats_minutes_2','stats_team_points_2', 'pop_log1p')"
   ]
  },
  {
   "cell_type": "code",
   "execution_count": 20,
   "metadata": {
    "ExecuteTime": {
     "end_time": "2019-08-06T00:35:37.644263Z",
     "start_time": "2019-08-06T00:35:37.596301Z"
    }
   },
   "outputs": [],
   "source": [
    "cat_vars = list(cat_vars_tpl)\n",
    "cont_vars = list(cont_vars_tpl)\n",
    "all_vars = cat_vars + cont_vars"
   ]
  },
  {
   "cell_type": "code",
   "execution_count": 21,
   "metadata": {
    "ExecuteTime": {
     "end_time": "2019-08-06T00:35:37.694717Z",
     "start_time": "2019-08-06T00:35:37.646018Z"
    }
   },
   "outputs": [],
   "source": [
    "dep_var = 'fee'"
   ]
  },
  {
   "cell_type": "code",
   "execution_count": 22,
   "metadata": {
    "ExecuteTime": {
     "end_time": "2019-08-06T00:35:37.757622Z",
     "start_time": "2019-08-06T00:35:37.696732Z"
    }
   },
   "outputs": [],
   "source": [
    "df = train_df[all_vars + [dep_var]].copy()"
   ]
  },
  {
   "cell_type": "code",
   "execution_count": 23,
   "metadata": {
    "ExecuteTime": {
     "end_time": "2019-08-06T00:35:37.806792Z",
     "start_time": "2019-08-06T00:35:37.759231Z"
    }
   },
   "outputs": [],
   "source": [
    "np.random.seed(1001)\n",
    "ln = len(df)\n",
    "valid_idx = np.random.choice(ln, int(ln*0.2), replace=False)"
   ]
  },
  {
   "cell_type": "code",
   "execution_count": 24,
   "metadata": {
    "ExecuteTime": {
     "end_time": "2019-08-06T00:35:37.854906Z",
     "start_time": "2019-08-06T00:35:37.808358Z"
    }
   },
   "outputs": [],
   "source": [
    "procs=[FillMissing, Categorify, Normalize]"
   ]
  },
  {
   "cell_type": "code",
   "execution_count": 25,
   "metadata": {
    "ExecuteTime": {
     "end_time": "2019-08-06T00:35:39.604494Z",
     "start_time": "2019-08-06T00:35:37.856555Z"
    }
   },
   "outputs": [],
   "source": [
    "min_log_y = np.log(500)\n",
    "max_log_y = np.log(np.max(df[dep_var])*1.2)\n",
    "y_range = torch.tensor([min_log_y, max_log_y], device=defaults.device)"
   ]
  },
  {
   "cell_type": "code",
   "execution_count": 26,
   "metadata": {
    "ExecuteTime": {
     "end_time": "2019-08-06T00:35:39.652539Z",
     "start_time": "2019-08-06T00:35:39.606404Z"
    }
   },
   "outputs": [],
   "source": [
    "BS = 128"
   ]
  },
  {
   "cell_type": "code",
   "execution_count": 27,
   "metadata": {
    "ExecuteTime": {
     "end_time": "2019-08-06T00:35:39.703538Z",
     "start_time": "2019-08-06T00:35:39.654163Z"
    }
   },
   "outputs": [],
   "source": [
    "def emb_sz_rule_reduced(n_cat:int)->int: return min(10, round(1.6 * n_cat**0.56))"
   ]
  },
  {
   "cell_type": "code",
   "execution_count": 28,
   "metadata": {
    "ExecuteTime": {
     "end_time": "2019-08-06T00:35:39.752833Z",
     "start_time": "2019-08-06T00:35:39.705151Z"
    }
   },
   "outputs": [],
   "source": [
    "#monkey pacth embenning rule as 600 floats is too much for our case\n",
    "tabular.data.emb_sz_rule = emb_sz_rule_reduced"
   ]
  },
  {
   "cell_type": "code",
   "execution_count": 29,
   "metadata": {
    "ExecuteTime": {
     "end_time": "2019-08-06T00:35:39.803772Z",
     "start_time": "2019-08-06T00:35:39.754528Z"
    }
   },
   "outputs": [],
   "source": [
    "name = 'w_pop_ref-346-median'"
   ]
  },
  {
   "cell_type": "code",
   "execution_count": 30,
   "metadata": {
    "ExecuteTime": {
     "end_time": "2019-08-06T00:35:39.861834Z",
     "start_time": "2019-08-06T00:35:39.806955Z"
    }
   },
   "outputs": [
    {
     "data": {
      "text/plain": [
       "{'layers': [1000, 500],\n",
       " 'layers_drop': [0.07, 0.7],\n",
       " 'emb_drop': 0.7,\n",
       " 'cycles': 40,\n",
       " 'w_decay': 0.7,\n",
       " 'max_lr': 0.001}"
      ]
     },
     "execution_count": 30,
     "metadata": {},
     "output_type": "execute_result"
    }
   ],
   "source": [
    "p = ld_var(name=f'{name}_hypers', path=path)\n",
    "p"
   ]
  },
  {
   "cell_type": "code",
   "execution_count": 31,
   "metadata": {
    "ExecuteTime": {
     "end_time": "2019-08-06T00:35:40.577329Z",
     "start_time": "2019-08-06T00:35:39.863570Z"
    }
   },
   "outputs": [],
   "source": [
    "data = (TabularList.from_df(df, path=path, cat_names=cat_vars, cont_names=cont_vars, procs=procs)\n",
    "        .split_by_idx(valid_idx)\n",
    "        .label_from_df(cols=dep_var, label_cls=FloatList, log=True)\n",
    "        .databunch(bs=BS))"
   ]
  },
  {
   "cell_type": "code",
   "execution_count": 32,
   "metadata": {
    "ExecuteTime": {
     "end_time": "2019-08-06T00:35:40.684056Z",
     "start_time": "2019-08-06T00:35:40.579015Z"
    }
   },
   "outputs": [],
   "source": [
    "np.random.seed(1001)\n",
    "learn = tabular_learner(data, \n",
    "                        layers=p['layers'], \n",
    "                        ps=p['layers_drop'], \n",
    "                        emb_drop=p['emb_drop'], \n",
    "                        y_range=y_range, \n",
    "                        metrics=exp_mmape,\n",
    "                        loss_func=MAELossFlat())"
   ]
  },
  {
   "cell_type": "code",
   "execution_count": 33,
   "metadata": {
    "ExecuteTime": {
     "end_time": "2019-08-06T00:35:43.807604Z",
     "start_time": "2019-08-06T00:35:43.644180Z"
    }
   },
   "outputs": [],
   "source": [
    "learn = learn.load(f'{name}')"
   ]
  },
  {
   "cell_type": "code",
   "execution_count": 28,
   "metadata": {
    "ExecuteTime": {
     "end_time": "2019-07-30T18:09:34.028770Z",
     "start_time": "2019-07-30T18:01:53.695339Z"
    }
   },
   "outputs": [
    {
     "data": {
      "text/html": [
       "Total time: 07:39 <p>"
      ],
      "text/plain": [
       "<IPython.core.display.HTML object>"
      ]
     },
     "metadata": {},
     "output_type": "display_data"
    }
   ],
   "source": [
    "fi = calc_feat_importance(df=df,\n",
    "                     learn=learn, \n",
    "                     dep_col=dep_var,\n",
    "                     func=exp_mmape,\n",
    "                     bs=BS,\n",
    "                     rounds=10)"
   ]
  },
  {
   "cell_type": "code",
   "execution_count": 29,
   "metadata": {
    "ExecuteTime": {
     "end_time": "2019-07-30T18:09:34.060933Z",
     "start_time": "2019-07-30T18:09:34.030640Z"
    }
   },
   "outputs": [
    {
     "data": {
      "text/plain": [
       "OrderedDict([('from_coach_name', 0.2532547386803482),\n",
       "             ('to_coach_name', 0.22926744939010277),\n",
       "             ('plr_player_agent', 0.19481521417458034),\n",
       "             ('to_club_name', 0.19368163744883338),\n",
       "             ('from_club_name', 0.15482357956792964),\n",
       "             ('stats_minutes_0', 0.12545907110437843),\n",
       "             ('pop_log1p', 0.1251504598768778),\n",
       "             ('nat_national_name', 0.10613940759536696),\n",
       "             ('nat_matches_played', 0.09077946127452848),\n",
       "             ('to_sport_dir_name', 0.08958552479291623),\n",
       "             ('from_sport_dir_name', 0.079930674183312),\n",
       "             ('age', 0.07977442738809272),\n",
       "             ('trs_year', 0.06641507001438672),\n",
       "             ('season', 0.06288907869329918),\n",
       "             ('stats_leag_name_0', 0.058282252180715935),\n",
       "             ('to_clb_pts_avg', 0.056330815413420374),\n",
       "             ('nat_months_from_debut', 0.054966128214669764),\n",
       "             ('stats_minutes_1', 0.054610782127652094),\n",
       "             ('stats_made_goals_0', 0.05158817945014021),\n",
       "             ('contract_left_years', 0.044483675030106626),\n",
       "             ('is_loan', 0.04369914470811956),\n",
       "             ('to_clb_goals_diff_avg', 0.04230493690061444),\n",
       "             ('to_clb_lg_name', 0.029079997187118175),\n",
       "             ('to_clb_lg_country', 0.02898689372873857),\n",
       "             ('nat_goals_scored', 0.02788781875664763),\n",
       "             ('stats_made_goals_1', 0.026799585099930558),\n",
       "             ('trs_till_deadline', 0.02678823101964036),\n",
       "             ('plr_other_positions', 0.024135331846803422),\n",
       "             ('stats_leag_name_2', 0.02013788981121461),\n",
       "             ('stats_made_goals_2', 0.019549308939397048),\n",
       "             ('plr_nationality_name', 0.017409540943546048),\n",
       "             ('from_clb_pts_avg', 0.01718890552526173),\n",
       "             ('plr_position_0', 0.015470850047027867),\n",
       "             ('stats_leag_name_1', 0.014667567179529252),\n",
       "             ('plr_position_main', 0.014633797947182283),\n",
       "             ('stats_leag_grp_0', 0.011500364795611904),\n",
       "             ('to_clb_lg_group', 0.011388069278935323),\n",
       "             ('plr_other_nationality_name', 0.011309689498867521),\n",
       "             ('plr_place_of_birth_country_name', 0.010392060055027),\n",
       "             ('from_clb_place', 0.00957170944102764),\n",
       "             ('from_clb_goals_diff_avg', 0.009289249224259933),\n",
       "             ('stats_cards_0', 0.009097475145551984),\n",
       "             ('to_clb_is_promoted', 0.008740737268047128),\n",
       "             ('stats_team_points_0', 0.007774907922071453),\n",
       "             ('trs_month', 0.007633824317949409),\n",
       "             ('from_clb_lg_name', 0.007338105465487991),\n",
       "             ('plr_position_1', 0.007282653602393293),\n",
       "             ('stats_leag_grp_2', 0.006533064546847668),\n",
       "             ('from_clb_qualified_to', 0.006384216216849748),\n",
       "             ('plr_height', 0.006220131443623695),\n",
       "             ('trs_day', 0.005804132592217108),\n",
       "             ('from_clb_lg_country', 0.005793218024712339),\n",
       "             ('stats_minutes_2', 0.005675575102479731),\n",
       "             ('stats_conc_gols_2', 0.005060183950751127),\n",
       "             ('to_clb_qualified_to', 0.004506031580458676),\n",
       "             ('plr_position_2', 0.0043470012042650325),\n",
       "             ('stats_leag_grp_1', 0.004197347100827163),\n",
       "             ('stats_cards_2', 0.00403113801580488),\n",
       "             ('stats_conc_gols_0', 0.003288434660564276),\n",
       "             ('stats_cards_1', 0.003199433321515323),\n",
       "             ('stats_conc_gols_1', 0.003109113444110089),\n",
       "             ('stats_team_points_1', 0.002772446650473062),\n",
       "             ('to_clb_place', 0.002727250085704993),\n",
       "             ('to_clb_is_cup_winner', 0.0024108741323285096),\n",
       "             ('plr_apps_1', 0.0022957217825466543),\n",
       "             ('from_clb_is_champion', 0.0021969046579565),\n",
       "             ('to_clb_is_champion', 0.0021969046579565),\n",
       "             ('plr_apps_0', 0.0019982448789435284),\n",
       "             ('contract_left_months', 0.0018630214452938435),\n",
       "             ('from_clb_is_promoted', 0.0014853334583503034),\n",
       "             ('is_midseason', 0.0012319543375516795),\n",
       "             ('plr_apps_2', 0.0008875960701696812),\n",
       "             ('plr_foot', 0.000763433708286574),\n",
       "             ('from_clb_lg_group', 0.0006217640871172942),\n",
       "             ('from_clb_is_cup_winner', 0.00013478392086425795),\n",
       "             ('from_club_is_first_team', 2.212214353315538e-05),\n",
       "             ('to_club_is_first_team', 2.212214353315538e-05),\n",
       "             ('is_end_of_loan', 0.0),\n",
       "             ('stats_team_points_2', -0.0004483030411354666)])"
      ]
     },
     "execution_count": 29,
     "metadata": {},
     "output_type": "execute_result"
    }
   ],
   "source": [
    "fi"
   ]
  },
  {
   "cell_type": "code",
   "execution_count": 30,
   "metadata": {
    "ExecuteTime": {
     "end_time": "2019-07-30T18:09:34.465696Z",
     "start_time": "2019-07-30T18:09:34.062472Z"
    }
   },
   "outputs": [
    {
     "data": {
      "image/png": "[encoded data removed]",
      "text/plain": [
       "<Figure size 720x720 with 1 Axes>"
      ]
     },
     "metadata": {
      "needs_background": "light"
     },
     "output_type": "display_data"
    }
   ],
   "source": [
    "plot_importance(ord_dic_to_df(fi), asc=False)"
   ]
  },
  {
   "cell_type": "markdown",
   "metadata": {},
   "source": [
    "It's very interesting that to/from coachname and clubname are so hight.\n",
    "Just don't remember that model takes the whole decade as an input ant try to interpert it pretty much as one, so often we can see only general insights of the whole decade.\n",
    "The player agent is also a very interesting field (I think even more interesting than the previous ones), because it is really independent from other features (as coaches and clubs and sport managers, I think, are often interconnected) and we can be more sure that inspecting it, we inspect this feature alone.\n",
    "The top continious features are: minutes played in the main tournament and popularity, which makes sense."
   ]
  },
  {
   "cell_type": "markdown",
   "metadata": {},
   "source": [
    "### After Dendrogram"
   ]
  },
  {
   "cell_type": "markdown",
   "metadata": {},
   "source": [
    "Let's treat season and trs_year as one entity in tearms of feture importance. As one is really nerly defines other (they bith are very correlated wuth each other). And model just splits importance of one thing into these two features."
   ]
  },
  {
   "cell_type": "code",
   "execution_count": 34,
   "metadata": {
    "ExecuteTime": {
     "end_time": "2019-08-06T00:35:53.184172Z",
     "start_time": "2019-08-06T00:35:53.125375Z"
    }
   },
   "outputs": [],
   "source": [
    "fields = [\n",
    "    ['season', 'trs_year'],\n",
    "     'trs_month',\n",
    "     'trs_day',\n",
    "     'trs_till_deadline',\n",
    "     ['contract_left_months', 'contract_left_years'],\n",
    "     'age',\n",
    "     'is_midseason',\n",
    "     'is_loan',\n",
    "     'is_end_of_loan',\n",
    "     'nat_national_name', \n",
    "     ['plr_position_main', 'plr_position_0'],\n",
    "     'plr_other_positions',\n",
    "     ['plr_nationality_name', 'plr_place_of_birth_country_name'],\n",
    "     'plr_other_nationality_name',\n",
    "     'plr_foot',\n",
    "     'plr_height',\n",
    "     'plr_player_agent',\n",
    "     ['from_club_name', 'from_club_is_first_team', 'from_clb_lg_name', 'from_clb_lg_country', 'from_clb_lg_group'],\n",
    "     ['from_clb_place', 'from_clb_qualified_to', 'from_clb_is_champion', 'from_clb_is_cup_winner', 'from_clb_is_promoted'] ,\n",
    "     'from_coach_name',\n",
    "     'from_sport_dir_name',\n",
    "     ['to_club_name', 'to_club_is_first_team', 'to_clb_lg_name',  'to_clb_lg_country', 'to_clb_lg_group'],\n",
    "     ['to_clb_place', 'to_clb_qualified_to', 'to_clb_is_champion', 'to_clb_is_cup_winner', 'to_clb_is_promoted'] ,\n",
    "     'to_coach_name',\n",
    "     'to_sport_dir_name',\n",
    "     'plr_position_1',\n",
    "     'plr_position_2',\n",
    "     ['stats_leag_name_0', 'stats_leag_grp_0'],\n",
    "     ['stats_leag_name_1', 'stats_leag_grp_1'],\n",
    "     ['stats_leag_name_2', 'stats_leag_grp_2'],\n",
    "     'nat_months_from_debut',\n",
    "     'nat_matches_played',\n",
    "     'nat_goals_scored',\n",
    "     'from_clb_pts_avg',\n",
    "     'from_clb_goals_diff_avg',\n",
    "     'to_clb_pts_avg',\n",
    "     'to_clb_goals_diff_avg',\n",
    "     'plr_apps_0',\n",
    "     'plr_apps_1',\n",
    "     'plr_apps_2',\n",
    "     'stats_made_goals_0',\n",
    "     'stats_conc_gols_0',\n",
    "     'stats_cards_0',\n",
    "     'stats_minutes_0',\n",
    "     'stats_team_points_0',\n",
    "     'stats_made_goals_1',\n",
    "     'stats_conc_gols_1',\n",
    "     'stats_cards_1',\n",
    "     'stats_minutes_1',\n",
    "     'stats_team_points_1',\n",
    "     'stats_made_goals_2',\n",
    "     'stats_conc_gols_2',\n",
    "     'stats_cards_2',\n",
    "     'stats_minutes_2',\n",
    "     'stats_team_points_2',\n",
    "     'pop_log1p'\n",
    " ]"
   ]
  },
  {
   "cell_type": "code",
   "execution_count": 36,
   "metadata": {
    "ExecuteTime": {
     "end_time": "2019-08-06T00:41:51.444523Z",
     "start_time": "2019-08-06T00:36:40.352589Z"
    }
   },
   "outputs": [
    {
     "data": {
      "text/html": [
       "Total time: 05:10 <p>"
      ],
      "text/plain": [
       "<IPython.core.display.HTML object>"
      ]
     },
     "metadata": {},
     "output_type": "display_data"
    }
   ],
   "source": [
    "imp_simple_conc = calc_fi_custom(df=df,\n",
    "               learn=learn, \n",
    "               dep_col=dep_var,\n",
    "               fields=fields,\n",
    "               func=exp_mmape,\n",
    "               bs=BS,\n",
    "               rounds=10)"
   ]
  },
  {
   "cell_type": "code",
   "execution_count": 37,
   "metadata": {
    "ExecuteTime": {
     "end_time": "2019-08-06T00:41:51.501850Z",
     "start_time": "2019-08-06T00:41:51.446386Z"
    }
   },
   "outputs": [
    {
     "data": {
      "text/plain": [
       "OrderedDict([('to_club_name, to_club_is_first_team, to_clb_lg_name, to_clb_lg_country, to_clb_lg_group',\n",
       "              0.5155210336181214),\n",
       "             ('from_coach_name', 0.3720307988262844),\n",
       "             ('season, trs_year', 0.35396791675234346),\n",
       "             ('to_coach_name', 0.33075302370137494),\n",
       "             ('plr_player_agent', 0.2901645287255285),\n",
       "             ('from_club_name, from_club_is_first_team, from_clb_lg_name, from_clb_lg_country, from_clb_lg_group',\n",
       "              0.27367754786613563),\n",
       "             ('stats_minutes_0', 0.25280648018843377),\n",
       "             ('pop_log1p', 0.25066028808850227),\n",
       "             ('nat_matches_played', 0.17987181123878446),\n",
       "             ('nat_months_from_debut', 0.16820745256752714),\n",
       "             ('nat_national_name', 0.153525093481123),\n",
       "             ('stats_made_goals_0', 0.15141924663521555),\n",
       "             ('age', 0.14200145593742783),\n",
       "             ('to_sport_dir_name', 0.14113335080977993),\n",
       "             ('stats_minutes_1', 0.1261433347983663),\n",
       "             ('from_sport_dir_name', 0.1174474707716176),\n",
       "             ('stats_leag_name_0, stats_leag_grp_0', 0.11093512307738784),\n",
       "             ('to_clb_goals_diff_avg', 0.09930185169123602),\n",
       "             ('contract_left_months, contract_left_years',\n",
       "              0.09910938339003433),\n",
       "             ('to_clb_pts_avg', 0.09604246191807575),\n",
       "             ('stats_made_goals_1', 0.08770717141762893),\n",
       "             ('plr_nationality_name, plr_place_of_birth_country_name',\n",
       "              0.08006983432133728),\n",
       "             ('stats_team_points_0', 0.07461581865295577),\n",
       "             ('stats_made_goals_2', 0.07399582709232534),\n",
       "             ('plr_apps_2', 0.06906746915390935),\n",
       "             ('nat_goals_scored', 0.06335150169128474),\n",
       "             ('stats_minutes_2', 0.06328591629041956),\n",
       "             ('is_loan', 0.06325453664840086),\n",
       "             ('plr_apps_1', 0.05662563599810163),\n",
       "             ('plr_other_positions', 0.05483212378781515),\n",
       "             ('trs_till_deadline', 0.05349644250362766),\n",
       "             ('from_clb_goals_diff_avg', 0.049011395097954186),\n",
       "             ('plr_position_main, plr_position_0', 0.04687436351463685),\n",
       "             ('to_clb_place, to_clb_qualified_to, to_clb_is_champion, to_clb_is_cup_winner, to_clb_is_promoted',\n",
       "              0.04553390706753347),\n",
       "             ('stats_team_points_2', 0.041730830888092596),\n",
       "             ('stats_team_points_1', 0.038166902663663835),\n",
       "             ('stats_cards_1', 0.03762613982651541),\n",
       "             ('stats_leag_name_1, stats_leag_grp_1', 0.035858744833809714),\n",
       "             ('plr_height', 0.035164104808004346),\n",
       "             ('from_clb_place, from_clb_qualified_to, from_clb_is_champion, from_clb_is_cup_winner, from_clb_is_promoted',\n",
       "              0.034723815296698414),\n",
       "             ('stats_leag_name_2, stats_leag_grp_2', 0.03164607661895077),\n",
       "             ('trs_day', 0.024781146487380414),\n",
       "             ('from_clb_pts_avg', 0.024585267355524524),\n",
       "             ('trs_month', 0.024076273969612424),\n",
       "             ('plr_other_nationality_name', 0.02403456438332669),\n",
       "             ('stats_cards_2', 0.02027953218995793),\n",
       "             ('stats_cards_0', 0.017292034346090165),\n",
       "             ('stats_conc_gols_1', 0.015788930002933313),\n",
       "             ('plr_position_2', 0.01569284203078908),\n",
       "             ('plr_apps_0', 0.015150617409074564),\n",
       "             ('stats_conc_gols_2', 0.014452176743397363),\n",
       "             ('plr_position_1', 0.013018653345586337),\n",
       "             ('is_midseason', 0.00887887945442302),\n",
       "             ('plr_foot', 0.007117234147677273),\n",
       "             ('stats_conc_gols_0', 0.005650187157150611),\n",
       "             ('is_end_of_loan', 0.0)])"
      ]
     },
     "execution_count": 37,
     "metadata": {},
     "output_type": "execute_result"
    }
   ],
   "source": [
    "imp_simple_conc"
   ]
  },
  {
   "cell_type": "code",
   "execution_count": 38,
   "metadata": {
    "ExecuteTime": {
     "end_time": "2019-08-06T00:42:10.778929Z",
     "start_time": "2019-08-06T00:42:10.336654Z"
    }
   },
   "outputs": [
    {
     "data": {
      "image/png": "[encoded data removed]",
      "text/plain": [
       "<Figure size 720x720 with 1 Axes>"
      ]
     },
     "metadata": {
      "needs_background": "light"
     },
     "output_type": "display_data"
    }
   ],
   "source": [
    "plot_importance(ord_dic_to_df(imp_simple_conc), asc=False)"
   ]
  },
  {
   "cell_type": "code",
   "execution_count": 40,
   "metadata": {
    "ExecuteTime": {
     "end_time": "2019-08-06T00:46:21.430102Z",
     "start_time": "2019-08-06T00:46:21.377570Z"
    }
   },
   "outputs": [],
   "source": [
    "sv_var(var=imp_simple_conc, name='imp_simple_conc', path=path)"
   ]
  },
  {
   "cell_type": "code",
   "execution_count": 42,
   "metadata": {
    "ExecuteTime": {
     "end_time": "2019-08-06T16:29:47.071569Z",
     "start_time": "2019-08-06T16:29:47.014710Z"
    }
   },
   "outputs": [],
   "source": [
    "imp_simple_conc = ld_var(name='imp_simple_conc', path=path)"
   ]
  }
 ],
 "metadata": {
  "kernelspec": {
   "display_name": "Python 3",
   "language": "python",
   "name": "python3"
  },
  "language_info": {
   "codemirror_mode": {
    "name": "ipython",
    "version": 3
   },
   "file_extension": ".py",
   "mimetype": "text/x-python",
   "name": "python",
   "nbconvert_exporter": "python",
   "pygments_lexer": "ipython3",
   "version": "3.6.8"
  }
 },
 "nbformat": 4,
 "nbformat_minor": 2
}
