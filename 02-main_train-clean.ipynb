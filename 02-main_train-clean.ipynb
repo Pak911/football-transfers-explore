{
 "cells": [
  {
   "cell_type": "code",
   "execution_count": 1,
   "metadata": {
    "ExecuteTime": {
     "end_time": "2019-08-28T19:41:18.746996Z",
     "start_time": "2019-08-28T19:41:18.725207Z"
    }
   },
   "outputs": [],
   "source": [
    "%reload_ext autoreload\n",
    "%autoreload 2"
   ]
  },
  {
   "cell_type": "code",
   "execution_count": 2,
   "metadata": {
    "ExecuteTime": {
     "end_time": "2019-08-28T19:41:22.554285Z",
     "start_time": "2019-08-28T19:41:19.651542Z"
    }
   },
   "outputs": [],
   "source": [
    "from fastai.tabular import *"
   ]
  },
  {
   "cell_type": "code",
   "execution_count": 3,
   "metadata": {
    "ExecuteTime": {
     "end_time": "2019-08-28T19:41:22.579315Z",
     "start_time": "2019-08-28T19:41:22.556818Z"
    }
   },
   "outputs": [],
   "source": [
    "from IPython.display import display, HTML"
   ]
  },
  {
   "cell_type": "code",
   "execution_count": 4,
   "metadata": {
    "ExecuteTime": {
     "end_time": "2019-08-28T19:41:22.603441Z",
     "start_time": "2019-08-28T19:41:22.581141Z"
    }
   },
   "outputs": [],
   "source": [
    "from fastai import tabular"
   ]
  },
  {
   "cell_type": "code",
   "execution_count": 5,
   "metadata": {
    "ExecuteTime": {
     "end_time": "2019-08-28T19:41:22.937186Z",
     "start_time": "2019-08-28T19:41:22.606139Z"
    }
   },
   "outputs": [],
   "source": [
    "from exp.nb_ import *"
   ]
  },
  {
   "cell_type": "code",
   "execution_count": 6,
   "metadata": {
    "ExecuteTime": {
     "end_time": "2019-08-28T19:41:23.281270Z",
     "start_time": "2019-08-28T19:41:23.247224Z"
    }
   },
   "outputs": [],
   "source": [
    "pd.set_option('display.max_rows',2000)"
   ]
  },
  {
   "cell_type": "code",
   "execution_count": 7,
   "metadata": {
    "ExecuteTime": {
     "end_time": "2019-08-28T19:41:24.884097Z",
     "start_time": "2019-08-28T19:41:24.802830Z"
    }
   },
   "outputs": [],
   "source": [
    "path=Path('../data/football/')\n",
    "train_df = pd.read_pickle(path/'trans_over_1000_final.pkl')"
   ]
  },
  {
   "cell_type": "code",
   "execution_count": 8,
   "metadata": {
    "ExecuteTime": {
     "end_time": "2019-08-28T19:41:25.507601Z",
     "start_time": "2019-08-28T19:41:25.469518Z"
    }
   },
   "outputs": [],
   "source": [
    "cat_vars_tpl = ('season','trs_year','trs_month','trs_day','trs_till_deadline',\n",
    "            'contract_left_months', 'contract_left_years','age',\n",
    "            'is_midseason','is_loan','is_end_of_loan',\n",
    "            'nat_national_name','plr_position_main',\n",
    "            'plr_other_positions','plr_nationality_name',\n",
    "            'plr_other_nationality_name','plr_place_of_birth_country_name',\n",
    "            'plr_foot','plr_height','plr_player_agent','from_club_name','from_club_is_first_team',\n",
    "            'from_clb_place','from_clb_qualified_to','from_clb_is_champion','from_clb_is_cup_winner',\n",
    "            'from_clb_is_promoted','from_clb_lg_name','from_clb_lg_country','from_clb_lg_group',\n",
    "            'from_coach_name', 'from_sport_dir_name',\n",
    "            'to_club_name','to_club_is_first_team','to_clb_place','to_clb_qualified_to',\n",
    "            'to_clb_is_champion','to_clb_is_cup_winner','to_clb_is_promoted','to_clb_lg_name','to_clb_lg_country',\n",
    "            'to_clb_lg_group','to_coach_name', 'to_sport_dir_name',\n",
    "            'plr_position_0','plr_position_1','plr_position_2',\n",
    "            'stats_leag_name_0','stats_leag_grp_0','stats_leag_name_1','stats_leag_grp_1','stats_leag_name_2',\n",
    "            'stats_leag_grp_2')"
   ]
  },
  {
   "cell_type": "code",
   "execution_count": 9,
   "metadata": {
    "ExecuteTime": {
     "end_time": "2019-08-28T19:41:26.928868Z",
     "start_time": "2019-08-28T19:41:26.892368Z"
    }
   },
   "outputs": [],
   "source": [
    "cont_vars_tpl = ('nat_months_from_debut','nat_matches_played','nat_goals_scored','from_clb_pts_avg',\n",
    "             'from_clb_goals_diff_avg','to_clb_pts_avg','to_clb_goals_diff_avg','plr_apps_0',\n",
    "             'plr_apps_1','plr_apps_2','stats_made_goals_0','stats_conc_gols_0','stats_cards_0',\n",
    "             'stats_minutes_0','stats_team_points_0','stats_made_goals_1','stats_conc_gols_1',\n",
    "             'stats_cards_1','stats_minutes_1','stats_team_points_1','stats_made_goals_2',\n",
    "             'stats_conc_gols_2','stats_cards_2','stats_minutes_2','stats_team_points_2', 'pop_log1p')"
   ]
  },
  {
   "cell_type": "code",
   "execution_count": 10,
   "metadata": {
    "ExecuteTime": {
     "end_time": "2019-08-28T19:41:27.547634Z",
     "start_time": "2019-08-28T19:41:27.515182Z"
    }
   },
   "outputs": [],
   "source": [
    "cat_vars = list(cat_vars_tpl)\n",
    "cont_vars = list(cont_vars_tpl)\n",
    "all_vars = cat_vars + cont_vars"
   ]
  },
  {
   "cell_type": "code",
   "execution_count": 11,
   "metadata": {
    "ExecuteTime": {
     "end_time": "2019-08-28T19:41:28.340068Z",
     "start_time": "2019-08-28T19:41:28.301941Z"
    }
   },
   "outputs": [
    {
     "data": {
      "text/plain": [
       "['player_name',\n",
       " 'market_value',\n",
       " 'fee',\n",
       " 'is_future_transfer',\n",
       " 'plr_place_of_birth_name']"
      ]
     },
     "execution_count": 11,
     "metadata": {},
     "output_type": "execute_result"
    }
   ],
   "source": [
    "list_diff(train_df.columns, cat_vars, cont_vars)"
   ]
  },
  {
   "cell_type": "markdown",
   "metadata": {},
   "source": [
    "We throw away: effectively unique values ('player_name','plr_place_of_birth_name'), constants ('is_future_transfer' as we have no future transfers here anymore) or values we don't want to use now (transfermarkt's 'market_value')"
   ]
  },
  {
   "cell_type": "code",
   "execution_count": 12,
   "metadata": {
    "ExecuteTime": {
     "end_time": "2019-08-28T19:41:30.135849Z",
     "start_time": "2019-08-28T19:41:30.103378Z"
    }
   },
   "outputs": [],
   "source": [
    "dep_var = 'fee'"
   ]
  },
  {
   "cell_type": "code",
   "execution_count": 13,
   "metadata": {
    "ExecuteTime": {
     "end_time": "2019-08-28T19:41:31.872960Z",
     "start_time": "2019-08-28T19:41:31.742299Z"
    }
   },
   "outputs": [],
   "source": [
    "df = train_df[all_vars + [dep_var]].copy()"
   ]
  },
  {
   "cell_type": "code",
   "execution_count": 14,
   "metadata": {
    "ExecuteTime": {
     "end_time": "2019-08-28T19:41:32.376421Z",
     "start_time": "2019-08-28T19:41:32.340471Z"
    }
   },
   "outputs": [],
   "source": [
    "np.random.seed(1001)\n",
    "ln = len(df)\n",
    "valid_idx = np.random.choice(ln, int(ln*0.2), replace=False)"
   ]
  },
  {
   "cell_type": "code",
   "execution_count": 15,
   "metadata": {
    "ExecuteTime": {
     "end_time": "2019-08-28T19:41:33.766338Z",
     "start_time": "2019-08-28T19:41:33.732518Z"
    }
   },
   "outputs": [
    {
     "data": {
      "text/plain": [
       "1952"
      ]
     },
     "execution_count": 15,
     "metadata": {},
     "output_type": "execute_result"
    }
   ],
   "source": [
    "len(valid_idx)"
   ]
  },
  {
   "cell_type": "code",
   "execution_count": 16,
   "metadata": {
    "ExecuteTime": {
     "end_time": "2019-08-28T19:41:34.651888Z",
     "start_time": "2019-08-28T19:41:34.620805Z"
    }
   },
   "outputs": [],
   "source": [
    "procs=[FillMissing, Categorify, Normalize]"
   ]
  },
  {
   "cell_type": "code",
   "execution_count": 17,
   "metadata": {
    "ExecuteTime": {
     "end_time": "2019-08-28T19:41:38.221230Z",
     "start_time": "2019-08-28T19:41:35.252015Z"
    }
   },
   "outputs": [],
   "source": [
    "min_log_y = np.log(500)\n",
    "max_log_y = np.log(np.max(df[dep_var])*1.2)\n",
    "y_range = torch.tensor([min_log_y, max_log_y], device=defaults.device)"
   ]
  },
  {
   "cell_type": "code",
   "execution_count": 18,
   "metadata": {
    "ExecuteTime": {
     "end_time": "2019-08-28T19:41:38.249259Z",
     "start_time": "2019-08-28T19:41:38.223650Z"
    }
   },
   "outputs": [],
   "source": [
    "def mape(pred:Tensor, targ:Tensor)->Rank0Tensor:\n",
    "    \"Median absolute percentage error between `pred` and `targ`.\"\n",
    "    pred,targ = flatten_check(pred,targ)\n",
    "    pct_var = (targ - pred)/targ\n",
    "    return torch.abs(pct_var).median()"
   ]
  },
  {
   "cell_type": "code",
   "execution_count": 19,
   "metadata": {
    "ExecuteTime": {
     "end_time": "2019-08-28T19:41:38.277277Z",
     "start_time": "2019-08-28T19:41:38.250897Z"
    }
   },
   "outputs": [],
   "source": [
    "#export\n",
    "def exp_mmape(pred:Tensor, targ:Tensor)->Rank0Tensor:\n",
    "    \"Exp median absolute percentage error between `pred` and `targ`.\"\n",
    "    pred,targ = flatten_check(pred,targ)\n",
    "    pred, targ = torch.exp(pred), torch.exp(targ)\n",
    "    pct_var = (targ - pred)/targ\n",
    "    return torch.abs(pct_var).median()"
   ]
  },
  {
   "cell_type": "code",
   "execution_count": 20,
   "metadata": {
    "ExecuteTime": {
     "end_time": "2019-08-28T19:41:38.304955Z",
     "start_time": "2019-08-28T19:41:38.279434Z"
    }
   },
   "outputs": [],
   "source": [
    "def avg_exp_mmape_n_mse(pred:Tensor, targ:Tensor)->Rank0Tensor:\n",
    "    return (exp_mmape(pred, targ) + mean_squared_error(pred, targ))/2"
   ]
  },
  {
   "cell_type": "code",
   "execution_count": 21,
   "metadata": {
    "ExecuteTime": {
     "end_time": "2019-08-28T19:41:41.519157Z",
     "start_time": "2019-08-28T19:41:41.486848Z"
    }
   },
   "outputs": [],
   "source": [
    "#export\n",
    "from fastai.layers import FlattenedLoss"
   ]
  },
  {
   "cell_type": "code",
   "execution_count": 22,
   "metadata": {
    "ExecuteTime": {
     "end_time": "2019-08-28T19:41:43.237825Z",
     "start_time": "2019-08-28T19:41:43.205911Z"
    }
   },
   "outputs": [],
   "source": [
    "#export\n",
    "def MAELossFlat(*args, axis:int=-1, floatify:bool=True, **kwargs):\n",
    "    \"Same as `nn.MAELoss`, but flattens input and target.\"\n",
    "    return FlattenedLoss(nn.L1Loss, *args, axis=axis, floatify=floatify, is_2d=False, **kwargs)"
   ]
  },
  {
   "cell_type": "code",
   "execution_count": 23,
   "metadata": {
    "ExecuteTime": {
     "end_time": "2019-08-28T19:41:44.081163Z",
     "start_time": "2019-08-28T19:41:44.046142Z"
    }
   },
   "outputs": [],
   "source": [
    "BS = 128"
   ]
  },
  {
   "cell_type": "code",
   "execution_count": 24,
   "metadata": {
    "ExecuteTime": {
     "end_time": "2019-08-28T19:41:44.793002Z",
     "start_time": "2019-08-28T19:41:44.756861Z"
    }
   },
   "outputs": [],
   "source": [
    "def emb_sz_rule_reduced(n_cat:int)->int: return min(10, round(1.6 * n_cat**0.56))"
   ]
  },
  {
   "cell_type": "code",
   "execution_count": 25,
   "metadata": {
    "ExecuteTime": {
     "end_time": "2019-08-28T19:41:45.576422Z",
     "start_time": "2019-08-28T19:41:45.542970Z"
    }
   },
   "outputs": [],
   "source": [
    "#monkey pacth embenning rule as 600 floats is too much for our case\n",
    "tabular.data.emb_sz_rule = emb_sz_rule_reduced"
   ]
  },
  {
   "cell_type": "code",
   "execution_count": 26,
   "metadata": {
    "ExecuteTime": {
     "end_time": "2019-08-28T19:41:46.278580Z",
     "start_time": "2019-08-28T19:41:46.244272Z"
    }
   },
   "outputs": [],
   "source": [
    "layers = [1000,500]\n",
    "layers_drop = [0.07, 0.7]\n",
    "emb_drop = 0.7\n",
    "cycles = 40\n",
    "w_decay = 0.7\n",
    "max_lr = 1e-3"
   ]
  },
  {
   "cell_type": "code",
   "execution_count": 27,
   "metadata": {
    "ExecuteTime": {
     "end_time": "2019-08-28T19:41:48.220848Z",
     "start_time": "2019-08-28T19:41:47.502487Z"
    }
   },
   "outputs": [],
   "source": [
    "data = (TabularList.from_df(df, path=path, cat_names=cat_vars, cont_names=cont_vars, procs=procs)\n",
    "        .split_by_idx(valid_idx)\n",
    "        .label_from_df(cols=dep_var, label_cls=FloatList, log=True)\n",
    "        .databunch(bs=BS))"
   ]
  },
  {
   "cell_type": "code",
   "execution_count": 28,
   "metadata": {
    "ExecuteTime": {
     "end_time": "2019-08-28T19:41:48.530114Z",
     "start_time": "2019-08-28T19:41:48.383399Z"
    }
   },
   "outputs": [],
   "source": [
    "np.random.seed(1001)\n",
    "learn = tabular_learner(data, \n",
    "                        layers=layers, \n",
    "                        ps=layers_drop, \n",
    "                        emb_drop=emb_drop, \n",
    "                        y_range=y_range, \n",
    "                        metrics=exp_mmape,\n",
    "                        loss_func=MAELossFlat(), \n",
    "                        callback_fns=[CSVLogger])"
   ]
  },
  {
   "cell_type": "markdown",
   "metadata": {},
   "source": [
    "#### Fit"
   ]
  },
  {
   "cell_type": "code",
   "execution_count": 29,
   "metadata": {
    "ExecuteTime": {
     "end_time": "2019-08-28T19:43:21.110359Z",
     "start_time": "2019-08-28T19:41:50.085046Z"
    },
    "scrolled": false
   },
   "outputs": [
    {
     "data": {
      "text/html": [
       "Total time: 01:30 <p><table style='width:375px; margin-bottom:10px'>\n",
       "  <tr>\n",
       "    <th>epoch</th>\n",
       "    <th>train_loss</th>\n",
       "    <th>valid_loss</th>\n",
       "    <th>exp_mmape</th>\n",
       "    <th>time</th>\n",
       "  </tr>\n",
       "  <tr>\n",
       "    <th>0</th>\n",
       "    <th>1.258965</th>\n",
       "    <th>1.104291</th>\n",
       "    <th>1.680418</th>\n",
       "    <th>00:02</th>\n",
       "  </tr>\n",
       "  <tr>\n",
       "    <th>1</th>\n",
       "    <th>1.180123</th>\n",
       "    <th>1.032551</th>\n",
       "    <th>1.123483</th>\n",
       "    <th>00:02</th>\n",
       "  </tr>\n",
       "  <tr>\n",
       "    <th>2</th>\n",
       "    <th>1.061284</th>\n",
       "    <th>0.889907</th>\n",
       "    <th>0.673526</th>\n",
       "    <th>00:02</th>\n",
       "  </tr>\n",
       "  <tr>\n",
       "    <th>3</th>\n",
       "    <th>0.943476</th>\n",
       "    <th>0.805942</th>\n",
       "    <th>0.560289</th>\n",
       "    <th>00:02</th>\n",
       "  </tr>\n",
       "  <tr>\n",
       "    <th>4</th>\n",
       "    <th>0.847718</th>\n",
       "    <th>0.709671</th>\n",
       "    <th>0.521456</th>\n",
       "    <th>00:02</th>\n",
       "  </tr>\n",
       "  <tr>\n",
       "    <th>5</th>\n",
       "    <th>0.743637</th>\n",
       "    <th>0.607571</th>\n",
       "    <th>0.478198</th>\n",
       "    <th>00:02</th>\n",
       "  </tr>\n",
       "  <tr>\n",
       "    <th>6</th>\n",
       "    <th>0.642968</th>\n",
       "    <th>0.550358</th>\n",
       "    <th>0.461449</th>\n",
       "    <th>00:02</th>\n",
       "  </tr>\n",
       "  <tr>\n",
       "    <th>7</th>\n",
       "    <th>0.568827</th>\n",
       "    <th>0.500691</th>\n",
       "    <th>0.405564</th>\n",
       "    <th>00:02</th>\n",
       "  </tr>\n",
       "  <tr>\n",
       "    <th>8</th>\n",
       "    <th>0.522954</th>\n",
       "    <th>0.494220</th>\n",
       "    <th>0.403703</th>\n",
       "    <th>00:02</th>\n",
       "  </tr>\n",
       "  <tr>\n",
       "    <th>9</th>\n",
       "    <th>0.488195</th>\n",
       "    <th>0.469534</th>\n",
       "    <th>0.383873</th>\n",
       "    <th>00:02</th>\n",
       "  </tr>\n",
       "  <tr>\n",
       "    <th>10</th>\n",
       "    <th>0.459300</th>\n",
       "    <th>0.466615</th>\n",
       "    <th>0.365734</th>\n",
       "    <th>00:02</th>\n",
       "  </tr>\n",
       "  <tr>\n",
       "    <th>11</th>\n",
       "    <th>0.439333</th>\n",
       "    <th>0.471351</th>\n",
       "    <th>0.374001</th>\n",
       "    <th>00:02</th>\n",
       "  </tr>\n",
       "  <tr>\n",
       "    <th>12</th>\n",
       "    <th>0.426345</th>\n",
       "    <th>0.455230</th>\n",
       "    <th>0.371424</th>\n",
       "    <th>00:02</th>\n",
       "  </tr>\n",
       "  <tr>\n",
       "    <th>13</th>\n",
       "    <th>0.422517</th>\n",
       "    <th>0.464315</th>\n",
       "    <th>0.376226</th>\n",
       "    <th>00:02</th>\n",
       "  </tr>\n",
       "  <tr>\n",
       "    <th>14</th>\n",
       "    <th>0.410307</th>\n",
       "    <th>0.456378</th>\n",
       "    <th>0.359223</th>\n",
       "    <th>00:02</th>\n",
       "  </tr>\n",
       "  <tr>\n",
       "    <th>15</th>\n",
       "    <th>0.400872</th>\n",
       "    <th>0.457877</th>\n",
       "    <th>0.358762</th>\n",
       "    <th>00:02</th>\n",
       "  </tr>\n",
       "  <tr>\n",
       "    <th>16</th>\n",
       "    <th>0.393798</th>\n",
       "    <th>0.460518</th>\n",
       "    <th>0.367701</th>\n",
       "    <th>00:02</th>\n",
       "  </tr>\n",
       "  <tr>\n",
       "    <th>17</th>\n",
       "    <th>0.386247</th>\n",
       "    <th>0.461936</th>\n",
       "    <th>0.369207</th>\n",
       "    <th>00:02</th>\n",
       "  </tr>\n",
       "  <tr>\n",
       "    <th>18</th>\n",
       "    <th>0.378324</th>\n",
       "    <th>0.449494</th>\n",
       "    <th>0.354346</th>\n",
       "    <th>00:02</th>\n",
       "  </tr>\n",
       "  <tr>\n",
       "    <th>19</th>\n",
       "    <th>0.374986</th>\n",
       "    <th>0.444790</th>\n",
       "    <th>0.349194</th>\n",
       "    <th>00:02</th>\n",
       "  </tr>\n",
       "  <tr>\n",
       "    <th>20</th>\n",
       "    <th>0.366961</th>\n",
       "    <th>0.440497</th>\n",
       "    <th>0.340728</th>\n",
       "    <th>00:02</th>\n",
       "  </tr>\n",
       "  <tr>\n",
       "    <th>21</th>\n",
       "    <th>0.362839</th>\n",
       "    <th>0.443647</th>\n",
       "    <th>0.349292</th>\n",
       "    <th>00:02</th>\n",
       "  </tr>\n",
       "  <tr>\n",
       "    <th>22</th>\n",
       "    <th>0.358753</th>\n",
       "    <th>0.448197</th>\n",
       "    <th>0.343309</th>\n",
       "    <th>00:02</th>\n",
       "  </tr>\n",
       "  <tr>\n",
       "    <th>23</th>\n",
       "    <th>0.353878</th>\n",
       "    <th>0.440448</th>\n",
       "    <th>0.346875</th>\n",
       "    <th>00:02</th>\n",
       "  </tr>\n",
       "  <tr>\n",
       "    <th>24</th>\n",
       "    <th>0.346549</th>\n",
       "    <th>0.448140</th>\n",
       "    <th>0.353718</th>\n",
       "    <th>00:02</th>\n",
       "  </tr>\n",
       "  <tr>\n",
       "    <th>25</th>\n",
       "    <th>0.345610</th>\n",
       "    <th>0.451065</th>\n",
       "    <th>0.356221</th>\n",
       "    <th>00:02</th>\n",
       "  </tr>\n",
       "  <tr>\n",
       "    <th>26</th>\n",
       "    <th>0.338368</th>\n",
       "    <th>0.444274</th>\n",
       "    <th>0.350040</th>\n",
       "    <th>00:02</th>\n",
       "  </tr>\n",
       "  <tr>\n",
       "    <th>27</th>\n",
       "    <th>0.332639</th>\n",
       "    <th>0.455951</th>\n",
       "    <th>0.363697</th>\n",
       "    <th>00:02</th>\n",
       "  </tr>\n",
       "  <tr>\n",
       "    <th>28</th>\n",
       "    <th>0.320565</th>\n",
       "    <th>0.452949</th>\n",
       "    <th>0.352383</th>\n",
       "    <th>00:02</th>\n",
       "  </tr>\n",
       "  <tr>\n",
       "    <th>29</th>\n",
       "    <th>0.322833</th>\n",
       "    <th>0.449920</th>\n",
       "    <th>0.351235</th>\n",
       "    <th>00:02</th>\n",
       "  </tr>\n",
       "  <tr>\n",
       "    <th>30</th>\n",
       "    <th>0.318272</th>\n",
       "    <th>0.453192</th>\n",
       "    <th>0.356277</th>\n",
       "    <th>00:02</th>\n",
       "  </tr>\n",
       "  <tr>\n",
       "    <th>31</th>\n",
       "    <th>0.310111</th>\n",
       "    <th>0.450475</th>\n",
       "    <th>0.358385</th>\n",
       "    <th>00:02</th>\n",
       "  </tr>\n",
       "  <tr>\n",
       "    <th>32</th>\n",
       "    <th>0.311353</th>\n",
       "    <th>0.451541</th>\n",
       "    <th>0.358633</th>\n",
       "    <th>00:02</th>\n",
       "  </tr>\n",
       "  <tr>\n",
       "    <th>33</th>\n",
       "    <th>0.305918</th>\n",
       "    <th>0.448644</th>\n",
       "    <th>0.355860</th>\n",
       "    <th>00:02</th>\n",
       "  </tr>\n",
       "  <tr>\n",
       "    <th>34</th>\n",
       "    <th>0.303241</th>\n",
       "    <th>0.450886</th>\n",
       "    <th>0.359607</th>\n",
       "    <th>00:02</th>\n",
       "  </tr>\n",
       "  <tr>\n",
       "    <th>35</th>\n",
       "    <th>0.300089</th>\n",
       "    <th>0.449848</th>\n",
       "    <th>0.355004</th>\n",
       "    <th>00:02</th>\n",
       "  </tr>\n",
       "  <tr>\n",
       "    <th>36</th>\n",
       "    <th>0.297784</th>\n",
       "    <th>0.450052</th>\n",
       "    <th>0.359004</th>\n",
       "    <th>00:02</th>\n",
       "  </tr>\n",
       "  <tr>\n",
       "    <th>37</th>\n",
       "    <th>0.294179</th>\n",
       "    <th>0.449693</th>\n",
       "    <th>0.359334</th>\n",
       "    <th>00:02</th>\n",
       "  </tr>\n",
       "  <tr>\n",
       "    <th>38</th>\n",
       "    <th>0.296302</th>\n",
       "    <th>0.450717</th>\n",
       "    <th>0.359841</th>\n",
       "    <th>00:02</th>\n",
       "  </tr>\n",
       "  <tr>\n",
       "    <th>39</th>\n",
       "    <th>0.296984</th>\n",
       "    <th>0.450700</th>\n",
       "    <th>0.358207</th>\n",
       "    <th>00:02</th>\n",
       "  </tr>\n",
       "</table>\n"
      ],
      "text/plain": [
       "<IPython.core.display.HTML object>"
      ]
     },
     "metadata": {},
     "output_type": "display_data"
    }
   ],
   "source": [
    "learn.fit_one_cycle(cyc_len=cycles, max_lr=max_lr, wd=w_decay)"
   ]
  },
  {
   "cell_type": "code",
   "execution_count": 30,
   "metadata": {
    "ExecuteTime": {
     "end_time": "2019-08-28T19:43:21.149878Z",
     "start_time": "2019-08-28T19:43:21.112312Z"
    }
   },
   "outputs": [
    {
     "data": {
      "text/plain": [
       "0.34924299999999997"
      ]
     },
     "execution_count": 30,
     "metadata": {},
     "output_type": "execute_result"
    }
   ],
   "source": [
    "calc_valid_acc(learn=learn, func=exp_mmape)"
   ]
  },
  {
   "cell_type": "markdown",
   "metadata": {},
   "source": [
    "### Export learner and parameters"
   ]
  },
  {
   "cell_type": "code",
   "execution_count": 86,
   "metadata": {
    "ExecuteTime": {
     "end_time": "2019-07-30T19:57:58.729025Z",
     "start_time": "2019-07-30T19:57:58.673977Z"
    }
   },
   "outputs": [],
   "source": [
    "params = {\n",
    "    'layers':layers,\n",
    "    'layers_drop':layers_drop,\n",
    "    'emb_drop':emb_drop,\n",
    "    'cycles':cycles,\n",
    "    'w_decay':w_decay,\n",
    "    'max_lr':max_lr,\n",
    "}"
   ]
  },
  {
   "cell_type": "code",
   "execution_count": 87,
   "metadata": {
    "ExecuteTime": {
     "end_time": "2019-07-30T19:58:00.786811Z",
     "start_time": "2019-07-30T19:58:00.729931Z"
    }
   },
   "outputs": [
    {
     "data": {
      "text/plain": [
       "{'layers': [1000, 500],\n",
       " 'layers_drop': [0.07, 0.7],\n",
       " 'emb_drop': 0.7,\n",
       " 'cycles': 40,\n",
       " 'w_decay': 0.7,\n",
       " 'max_lr': 0.001}"
      ]
     },
     "execution_count": 87,
     "metadata": {},
     "output_type": "execute_result"
    }
   ],
   "source": [
    "params"
   ]
  },
  {
   "cell_type": "code",
   "execution_count": 80,
   "metadata": {
    "ExecuteTime": {
     "end_time": "2019-07-30T19:56:29.702016Z",
     "start_time": "2019-07-30T19:56:29.647430Z"
    }
   },
   "outputs": [],
   "source": [
    "name = 'w_pop_ref-346-median'"
   ]
  },
  {
   "cell_type": "code",
   "execution_count": 88,
   "metadata": {
    "ExecuteTime": {
     "end_time": "2019-07-30T19:58:05.577865Z",
     "start_time": "2019-07-30T19:58:05.521906Z"
    }
   },
   "outputs": [],
   "source": [
    "with open(path/f'{name}_hypers.pkl', 'wb') as handle:\n",
    "    pickle.dump(params, handle, protocol=pickle.HIGHEST_PROTOCOL)"
   ]
  },
  {
   "cell_type": "code",
   "execution_count": 82,
   "metadata": {
    "ExecuteTime": {
     "end_time": "2019-07-30T19:56:39.023809Z",
     "start_time": "2019-07-30T19:56:38.921790Z"
    }
   },
   "outputs": [],
   "source": [
    "learn.save(f'{name}');"
   ]
  },
  {
   "cell_type": "code",
   "execution_count": 83,
   "metadata": {
    "ExecuteTime": {
     "end_time": "2019-07-30T19:56:40.276601Z",
     "start_time": "2019-07-30T19:56:40.104392Z"
    }
   },
   "outputs": [],
   "source": [
    "learn = learn.load(f'{name}')"
   ]
  }
 ],
 "metadata": {
  "kernelspec": {
   "display_name": "Python 3",
   "language": "python",
   "name": "python3"
  },
  "language_info": {
   "codemirror_mode": {
    "name": "ipython",
    "version": 3
   },
   "file_extension": ".py",
   "mimetype": "text/x-python",
   "name": "python",
   "nbconvert_exporter": "python",
   "pygments_lexer": "ipython3",
   "version": "3.6.8"
  }
 },
 "nbformat": 4,
 "nbformat_minor": 2
}
