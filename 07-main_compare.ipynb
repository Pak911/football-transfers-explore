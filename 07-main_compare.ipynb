{
 "cells": [
  {
   "cell_type": "markdown",
   "metadata": {},
   "source": [
    "### Compare with actual transfermarkt's estimates"
   ]
  },
  {
   "cell_type": "markdown",
   "metadata": {
    "ExecuteTime": {
     "end_time": "2019-08-06T18:47:00.008358Z",
     "start_time": "2019-08-06T18:46:59.974372Z"
    }
   },
   "source": [
    "Here we compare our result with one got with actual transfermarkt's estimates"
   ]
  },
  {
   "cell_type": "markdown",
   "metadata": {},
   "source": [
    "### Prepare"
   ]
  },
  {
   "cell_type": "code",
   "execution_count": 1,
   "metadata": {
    "ExecuteTime": {
     "end_time": "2019-08-28T20:03:29.458861Z",
     "start_time": "2019-08-28T20:03:29.441039Z"
    }
   },
   "outputs": [],
   "source": [
    "%reload_ext autoreload\n",
    "%autoreload 2"
   ]
  },
  {
   "cell_type": "code",
   "execution_count": 2,
   "metadata": {
    "ExecuteTime": {
     "end_time": "2019-08-28T20:03:31.452245Z",
     "start_time": "2019-08-28T20:03:30.175398Z"
    }
   },
   "outputs": [],
   "source": [
    "from fastai.tabular import *"
   ]
  },
  {
   "cell_type": "code",
   "execution_count": 3,
   "metadata": {
    "ExecuteTime": {
     "end_time": "2019-08-28T20:03:31.481382Z",
     "start_time": "2019-08-28T20:03:31.454739Z"
    }
   },
   "outputs": [],
   "source": [
    "from fastai import tabular"
   ]
  },
  {
   "cell_type": "code",
   "execution_count": 4,
   "metadata": {
    "ExecuteTime": {
     "end_time": "2019-08-28T20:03:32.395574Z",
     "start_time": "2019-08-28T20:03:32.257021Z"
    }
   },
   "outputs": [],
   "source": [
    "from exp.nb_ import *"
   ]
  },
  {
   "cell_type": "code",
   "execution_count": 5,
   "metadata": {
    "ExecuteTime": {
     "end_time": "2019-08-28T20:03:32.897840Z",
     "start_time": "2019-08-28T20:03:32.865451Z"
    }
   },
   "outputs": [],
   "source": [
    "path=Path('../data/football/')"
   ]
  },
  {
   "cell_type": "code",
   "execution_count": 6,
   "metadata": {
    "ExecuteTime": {
     "end_time": "2019-08-28T20:03:33.596409Z",
     "start_time": "2019-08-28T20:03:33.535639Z"
    }
   },
   "outputs": [],
   "source": [
    "train_df = pd.read_pickle(path/'trans_over_1000_final.pkl')"
   ]
  },
  {
   "cell_type": "code",
   "execution_count": 7,
   "metadata": {
    "ExecuteTime": {
     "end_time": "2019-08-28T20:03:34.547878Z",
     "start_time": "2019-08-28T20:03:34.512471Z"
    }
   },
   "outputs": [],
   "source": [
    "cat_vars_tpl = ('season','trs_year','trs_month','trs_day','trs_till_deadline',\n",
    "            'contract_left_months', 'contract_left_years','age',\n",
    "            'is_midseason','is_loan','is_end_of_loan',\n",
    "            'nat_national_name','plr_position_main',\n",
    "            'plr_other_positions','plr_nationality_name',\n",
    "            'plr_other_nationality_name','plr_place_of_birth_country_name',\n",
    "            'plr_foot','plr_height','plr_player_agent','from_club_name','from_club_is_first_team',\n",
    "            'from_clb_place','from_clb_qualified_to','from_clb_is_champion','from_clb_is_cup_winner',\n",
    "            'from_clb_is_promoted','from_clb_lg_name','from_clb_lg_country','from_clb_lg_group',\n",
    "            'from_coach_name', 'from_sport_dir_name',\n",
    "            'to_club_name','to_club_is_first_team','to_clb_place','to_clb_qualified_to',\n",
    "            'to_clb_is_champion','to_clb_is_cup_winner','to_clb_is_promoted','to_clb_lg_name','to_clb_lg_country',\n",
    "            'to_clb_lg_group','to_coach_name', 'to_sport_dir_name',\n",
    "            'plr_position_0','plr_position_1','plr_position_2',\n",
    "            'stats_leag_name_0','stats_leag_grp_0','stats_leag_name_1','stats_leag_grp_1','stats_leag_name_2',\n",
    "            'stats_leag_grp_2')\n",
    "cont_vars_tpl = ('nat_months_from_debut','nat_matches_played','nat_goals_scored','from_clb_pts_avg',\n",
    "             'from_clb_goals_diff_avg','to_clb_pts_avg','to_clb_goals_diff_avg','plr_apps_0',\n",
    "             'plr_apps_1','plr_apps_2','stats_made_goals_0','stats_conc_gols_0','stats_cards_0',\n",
    "             'stats_minutes_0','stats_team_points_0','stats_made_goals_1','stats_conc_gols_1',\n",
    "             'stats_cards_1','stats_minutes_1','stats_team_points_1','stats_made_goals_2',\n",
    "             'stats_conc_gols_2','stats_cards_2','stats_minutes_2','stats_team_points_2', 'pop_log1p')"
   ]
  },
  {
   "cell_type": "code",
   "execution_count": 8,
   "metadata": {
    "ExecuteTime": {
     "end_time": "2019-08-28T20:03:36.423524Z",
     "start_time": "2019-08-28T20:03:36.391627Z"
    }
   },
   "outputs": [],
   "source": [
    "cat_vars = list(cat_vars_tpl)\n",
    "cont_vars = list(cont_vars_tpl)\n",
    "all_vars = cat_vars + cont_vars"
   ]
  },
  {
   "cell_type": "code",
   "execution_count": 9,
   "metadata": {
    "ExecuteTime": {
     "end_time": "2019-08-28T20:03:36.964772Z",
     "start_time": "2019-08-28T20:03:36.934660Z"
    }
   },
   "outputs": [],
   "source": [
    "dep_var = 'fee'"
   ]
  },
  {
   "cell_type": "code",
   "execution_count": 10,
   "metadata": {
    "ExecuteTime": {
     "end_time": "2019-08-28T20:03:37.606112Z",
     "start_time": "2019-08-28T20:03:37.559511Z"
    }
   },
   "outputs": [],
   "source": [
    "df = train_df[all_vars + [dep_var]].copy()"
   ]
  },
  {
   "cell_type": "code",
   "execution_count": 11,
   "metadata": {
    "ExecuteTime": {
     "end_time": "2019-08-28T20:03:38.072449Z",
     "start_time": "2019-08-28T20:03:38.038981Z"
    }
   },
   "outputs": [],
   "source": [
    "np.random.seed(1001)\n",
    "ln = len(df)\n",
    "valid_idx = np.random.choice(ln, int(ln*0.2), replace=False)"
   ]
  },
  {
   "cell_type": "code",
   "execution_count": 12,
   "metadata": {
    "ExecuteTime": {
     "end_time": "2019-08-28T20:03:39.251482Z",
     "start_time": "2019-08-28T20:03:39.219341Z"
    }
   },
   "outputs": [],
   "source": [
    "procs=[FillMissing, Categorify, Normalize]"
   ]
  },
  {
   "cell_type": "code",
   "execution_count": 13,
   "metadata": {
    "ExecuteTime": {
     "end_time": "2019-08-28T20:03:41.386282Z",
     "start_time": "2019-08-28T20:03:39.617747Z"
    }
   },
   "outputs": [],
   "source": [
    "min_log_y = np.log(500)\n",
    "max_log_y = np.log(np.max(df[dep_var])*1.2)\n",
    "y_range = torch.tensor([min_log_y, max_log_y], device=defaults.device)"
   ]
  },
  {
   "cell_type": "code",
   "execution_count": 14,
   "metadata": {
    "ExecuteTime": {
     "end_time": "2019-08-28T20:03:41.413095Z",
     "start_time": "2019-08-28T20:03:41.388487Z"
    }
   },
   "outputs": [],
   "source": [
    "BS = 128"
   ]
  },
  {
   "cell_type": "code",
   "execution_count": 15,
   "metadata": {
    "ExecuteTime": {
     "end_time": "2019-08-28T20:03:41.454429Z",
     "start_time": "2019-08-28T20:03:41.425365Z"
    }
   },
   "outputs": [],
   "source": [
    "def emb_sz_rule_reduced(n_cat:int)->int: return min(10, round(1.6 * n_cat**0.56))"
   ]
  },
  {
   "cell_type": "code",
   "execution_count": 16,
   "metadata": {
    "ExecuteTime": {
     "end_time": "2019-08-28T20:03:42.171241Z",
     "start_time": "2019-08-28T20:03:42.138145Z"
    }
   },
   "outputs": [],
   "source": [
    "#monkey pacth embenning rule as 600 floats is too much for our case\n",
    "tabular.data.emb_sz_rule = emb_sz_rule_reduced"
   ]
  },
  {
   "cell_type": "code",
   "execution_count": 17,
   "metadata": {
    "ExecuteTime": {
     "end_time": "2019-08-28T20:03:44.029282Z",
     "start_time": "2019-08-28T20:03:43.999127Z"
    }
   },
   "outputs": [],
   "source": [
    "name = 'w_pop_ref-346-median'"
   ]
  },
  {
   "cell_type": "code",
   "execution_count": 18,
   "metadata": {
    "ExecuteTime": {
     "end_time": "2019-08-28T20:03:44.744289Z",
     "start_time": "2019-08-28T20:03:44.710836Z"
    }
   },
   "outputs": [
    {
     "data": {
      "text/plain": [
       "{'layers': [1000, 500],\n",
       " 'layers_drop': [0.07, 0.7],\n",
       " 'emb_drop': 0.7,\n",
       " 'cycles': 40,\n",
       " 'w_decay': 0.7,\n",
       " 'max_lr': 0.001}"
      ]
     },
     "execution_count": 18,
     "metadata": {},
     "output_type": "execute_result"
    }
   ],
   "source": [
    "p = ld_var(name=f'{name}_hypers', path=path)\n",
    "p"
   ]
  },
  {
   "cell_type": "code",
   "execution_count": 19,
   "metadata": {
    "ExecuteTime": {
     "end_time": "2019-08-28T20:03:46.720225Z",
     "start_time": "2019-08-28T20:03:46.063188Z"
    }
   },
   "outputs": [],
   "source": [
    "data = (TabularList.from_df(df, path=path, cat_names=cat_vars, cont_names=cont_vars, procs=procs)\n",
    "        .split_by_idx(valid_idx)\n",
    "        .label_from_df(cols=dep_var, label_cls=FloatList, log=True)\n",
    "        .databunch(bs=BS))"
   ]
  },
  {
   "cell_type": "code",
   "execution_count": 20,
   "metadata": {
    "ExecuteTime": {
     "end_time": "2019-08-28T20:03:46.858365Z",
     "start_time": "2019-08-28T20:03:46.767179Z"
    }
   },
   "outputs": [],
   "source": [
    "np.random.seed(1001)\n",
    "learn = tabular_learner(data, \n",
    "                        layers=p['layers'], \n",
    "                        ps=p['layers_drop'], \n",
    "                        emb_drop=p['emb_drop'], \n",
    "                        y_range=y_range, \n",
    "                        metrics=exp_mmape,\n",
    "                        loss_func=MAELossFlat())"
   ]
  },
  {
   "cell_type": "code",
   "execution_count": 21,
   "metadata": {
    "ExecuteTime": {
     "end_time": "2019-08-28T20:03:48.594852Z",
     "start_time": "2019-08-28T20:03:48.394209Z"
    }
   },
   "outputs": [],
   "source": [
    "learn = learn.load(f'{name}')"
   ]
  },
  {
   "cell_type": "code",
   "execution_count": 22,
   "metadata": {
    "ExecuteTime": {
     "end_time": "2019-08-28T20:03:49.803123Z",
     "start_time": "2019-08-28T20:03:49.399230Z"
    }
   },
   "outputs": [
    {
     "data": {
      "text/plain": [
       "0.35330426692962646"
      ]
     },
     "execution_count": 22,
     "metadata": {},
     "output_type": "execute_result"
    }
   ],
   "source": [
    "exp_mmape_val = learn.validate()[1]\n",
    "float(exp_mmape_val)"
   ]
  },
  {
   "cell_type": "code",
   "execution_count": 23,
   "metadata": {
    "ExecuteTime": {
     "end_time": "2019-08-28T20:03:51.338521Z",
     "start_time": "2019-08-28T20:03:51.298200Z"
    }
   },
   "outputs": [],
   "source": [
    "valid_df = train_df.iloc[valid_idx]"
   ]
  },
  {
   "cell_type": "markdown",
   "metadata": {},
   "source": [
    "### Compare with actual transfermarkt estimates"
   ]
  },
  {
   "cell_type": "markdown",
   "metadata": {},
   "source": [
    "I do understand that transfermarkt's Market Value is conceptually not exactly what particular club will pay in a particular situation, but it is the best alternative here.\n",
    "\n",
    "So It would be interestiong to compare accuracy of these predictions"
   ]
  },
  {
   "cell_type": "markdown",
   "metadata": {
    "ExecuteTime": {
     "end_time": "2019-08-20T20:24:04.751705Z",
     "start_time": "2019-08-20T20:24:04.693667Z"
    }
   },
   "source": [
    "In order to make comparisson fair, we have to take log of variables as we processed them this way in our model"
   ]
  },
  {
   "cell_type": "code",
   "execution_count": 172,
   "metadata": {
    "ExecuteTime": {
     "end_time": "2019-08-28T20:54:28.528693Z",
     "start_time": "2019-08-28T20:54:28.496723Z"
    }
   },
   "outputs": [],
   "source": [
    "actuals_l = np.array(np.log1p(valid_df['fee']))"
   ]
  },
  {
   "cell_type": "code",
   "execution_count": 173,
   "metadata": {
    "ExecuteTime": {
     "end_time": "2019-08-28T20:54:31.222002Z",
     "start_time": "2019-08-28T20:54:31.191094Z"
    }
   },
   "outputs": [],
   "source": [
    "tm_preds_l =  np.array(np.log1p(valid_df['market_value']))"
   ]
  },
  {
   "cell_type": "code",
   "execution_count": 174,
   "metadata": {
    "ExecuteTime": {
     "end_time": "2019-08-28T20:54:32.701044Z",
     "start_time": "2019-08-28T20:54:32.422718Z"
    }
   },
   "outputs": [],
   "source": [
    "model_preds_l = get_cust_preds(df=valid_df, learn=learn).T[0]"
   ]
  },
  {
   "cell_type": "markdown",
   "metadata": {
    "ExecuteTime": {
     "end_time": "2019-08-28T20:30:02.531503Z",
     "start_time": "2019-08-28T20:30:02.498057Z"
    }
   },
   "source": [
    "Some of transfermarkt's predictions are not avaliable, so we get rid of it in every sequence in the name of fairness"
   ]
  },
  {
   "cell_type": "code",
   "execution_count": 175,
   "metadata": {
    "ExecuteTime": {
     "end_time": "2019-08-28T20:54:34.494355Z",
     "start_time": "2019-08-28T20:54:34.463441Z"
    }
   },
   "outputs": [],
   "source": [
    "nan_idx = np.argwhere(np.isnan(tm_preds_l))\n",
    "len(nan_idx)\n",
    "correct_idx = list_diff(range(0,len(actuals_l)), list(nan_idx.T[0]))"
   ]
  },
  {
   "cell_type": "code",
   "execution_count": 176,
   "metadata": {
    "ExecuteTime": {
     "end_time": "2019-08-28T20:54:35.499195Z",
     "start_time": "2019-08-28T20:54:35.464801Z"
    }
   },
   "outputs": [],
   "source": [
    "actuals_l = actuals_l[correct_idx]\n",
    "tm_preds_l = tm_preds_l[correct_idx]\n",
    "model_preds_l = model_preds_l[correct_idx]"
   ]
  },
  {
   "cell_type": "code",
   "execution_count": 177,
   "metadata": {
    "ExecuteTime": {
     "end_time": "2019-08-28T20:54:36.887726Z",
     "start_time": "2019-08-28T20:54:36.855032Z"
    }
   },
   "outputs": [],
   "source": [
    "def get_error(pred, targ):\n",
    "    acc = exp_mmape(pred=tensor(pred).double(), targ=tensor(targ).double())\n",
    "    return int(float(acc)*100)"
   ]
  },
  {
   "cell_type": "code",
   "execution_count": 178,
   "metadata": {
    "ExecuteTime": {
     "end_time": "2019-08-28T20:54:37.975795Z",
     "start_time": "2019-08-28T20:54:37.943247Z"
    }
   },
   "outputs": [],
   "source": [
    "tm_error = get_error(pred=tm_preds_l, targ=actuals_l)\n",
    "model_error = get_error(pred=model_preds_l, targ=actuals_l)"
   ]
  },
  {
   "cell_type": "code",
   "execution_count": 179,
   "metadata": {
    "ExecuteTime": {
     "end_time": "2019-08-28T20:54:40.200901Z",
     "start_time": "2019-08-28T20:54:40.168405Z"
    }
   },
   "outputs": [
    {
     "data": {
      "text/plain": [
       "{'transfermarkt': 37, 'model': 35}"
      ]
     },
     "execution_count": 179,
     "metadata": {},
     "output_type": "execute_result"
    }
   ],
   "source": [
    "results = {'transfermarkt':tm_error, 'model':model_error}\n",
    "results"
   ]
  },
  {
   "cell_type": "code",
   "execution_count": 180,
   "metadata": {
    "ExecuteTime": {
     "end_time": "2019-08-28T20:55:24.119938Z",
     "start_time": "2019-08-28T20:55:24.087213Z"
    }
   },
   "outputs": [],
   "source": [
    "results = pd.DataFrame(results, index=['error'])"
   ]
  },
  {
   "cell_type": "code",
   "execution_count": 181,
   "metadata": {
    "ExecuteTime": {
     "end_time": "2019-08-28T20:55:25.824187Z",
     "start_time": "2019-08-28T20:55:25.649549Z"
    }
   },
   "outputs": [
    {
     "data": {
      "text/plain": [
       "<matplotlib.axes._subplots.AxesSubplot at 0x7f0a740fa4a8>"
      ]
     },
     "execution_count": 181,
     "metadata": {},
     "output_type": "execute_result"
    },
    {
     "data": {
      "image/png": "[encoded data removed]",
      "text/plain": [
       "<Figure size 432x288 with 1 Axes>"
      ]
     },
     "metadata": {
      "needs_background": "light"
     },
     "output_type": "display_data"
    }
   ],
   "source": [
    "results.plot.barh()"
   ]
  },
  {
   "cell_type": "markdown",
   "metadata": {},
   "source": [
    "Hm... that's not good my model cannot be better than transfermarkt's\n",
    "\n",
    "Oh, I know let's also get rig of loans, as tm is not meant to predict it right"
   ]
  },
  {
   "cell_type": "code",
   "execution_count": 182,
   "metadata": {
    "ExecuteTime": {
     "end_time": "2019-08-28T20:55:54.103521Z",
     "start_time": "2019-08-28T20:55:54.066858Z"
    }
   },
   "outputs": [
    {
     "data": {
      "text/plain": [
       "(1952, 1890)"
      ]
     },
     "execution_count": 182,
     "metadata": {},
     "output_type": "execute_result"
    }
   ],
   "source": [
    "len(valid_df), len(valid_df.query('is_loan == False'))"
   ]
  },
  {
   "cell_type": "code",
   "execution_count": 183,
   "metadata": {
    "ExecuteTime": {
     "end_time": "2019-08-28T20:55:55.390928Z",
     "start_time": "2019-08-28T20:55:55.353971Z"
    }
   },
   "outputs": [],
   "source": [
    "valid_df_no_loans = valid_df.query('is_loan == False')"
   ]
  },
  {
   "cell_type": "code",
   "execution_count": 184,
   "metadata": {
    "ExecuteTime": {
     "end_time": "2019-08-28T20:55:58.099572Z",
     "start_time": "2019-08-28T20:55:58.065921Z"
    }
   },
   "outputs": [],
   "source": [
    "actuals_l = np.array(np.log1p(valid_df_no_loans['fee']))"
   ]
  },
  {
   "cell_type": "code",
   "execution_count": 185,
   "metadata": {
    "ExecuteTime": {
     "end_time": "2019-08-28T20:56:15.945135Z",
     "start_time": "2019-08-28T20:56:15.912950Z"
    }
   },
   "outputs": [],
   "source": [
    "tm_preds_l =  np.array(np.log1p(valid_df_no_loans['market_value']))"
   ]
  },
  {
   "cell_type": "code",
   "execution_count": 186,
   "metadata": {
    "ExecuteTime": {
     "end_time": "2019-08-28T20:56:30.849585Z",
     "start_time": "2019-08-28T20:56:30.573946Z"
    }
   },
   "outputs": [],
   "source": [
    "model_preds_l = get_cust_preds(df=valid_df_no_loans, learn=learn).T[0]"
   ]
  },
  {
   "cell_type": "code",
   "execution_count": 188,
   "metadata": {
    "ExecuteTime": {
     "end_time": "2019-08-28T20:56:53.111110Z",
     "start_time": "2019-08-28T20:56:53.075850Z"
    }
   },
   "outputs": [
    {
     "data": {
      "text/plain": [
       "347"
      ]
     },
     "execution_count": 188,
     "metadata": {},
     "output_type": "execute_result"
    }
   ],
   "source": [
    "nan_idx = np.argwhere(np.isnan(tm_preds_l))\n",
    "correct_idx = list_diff(range(0,len(actuals_l)), list(nan_idx.T[0]))\n",
    "len(nan_idx)"
   ]
  },
  {
   "cell_type": "code",
   "execution_count": 189,
   "metadata": {
    "ExecuteTime": {
     "end_time": "2019-08-28T20:57:04.474914Z",
     "start_time": "2019-08-28T20:57:04.442397Z"
    }
   },
   "outputs": [],
   "source": [
    "actuals_l = actuals_l[correct_idx]\n",
    "tm_preds_l = tm_preds_l[correct_idx]\n",
    "model_preds_l = model_preds_l[correct_idx]"
   ]
  },
  {
   "cell_type": "code",
   "execution_count": 190,
   "metadata": {
    "ExecuteTime": {
     "end_time": "2019-08-28T20:57:29.610189Z",
     "start_time": "2019-08-28T20:57:29.579895Z"
    }
   },
   "outputs": [],
   "source": [
    "tm_error = get_error(pred=tm_preds_l, targ=actuals_l)\n",
    "model_error = get_error(pred=model_preds_l, targ=actuals_l)"
   ]
  },
  {
   "cell_type": "code",
   "execution_count": 191,
   "metadata": {
    "ExecuteTime": {
     "end_time": "2019-08-28T20:57:33.093711Z",
     "start_time": "2019-08-28T20:57:33.060017Z"
    }
   },
   "outputs": [
    {
     "data": {
      "text/plain": [
       "{'transfermarkt': 35, 'model': 35}"
      ]
     },
     "execution_count": 191,
     "metadata": {},
     "output_type": "execute_result"
    }
   ],
   "source": [
    "results = {'transfermarkt':tm_error, 'model':model_error}\n",
    "results"
   ]
  },
  {
   "cell_type": "code",
   "execution_count": 192,
   "metadata": {
    "ExecuteTime": {
     "end_time": "2019-08-28T20:57:36.349826Z",
     "start_time": "2019-08-28T20:57:36.315489Z"
    }
   },
   "outputs": [],
   "source": [
    "results = pd.DataFrame(results, index=['error'])"
   ]
  },
  {
   "cell_type": "code",
   "execution_count": 193,
   "metadata": {
    "ExecuteTime": {
     "end_time": "2019-08-28T20:57:37.921521Z",
     "start_time": "2019-08-28T20:57:37.756696Z"
    }
   },
   "outputs": [
    {
     "data": {
      "text/plain": [
       "<matplotlib.axes._subplots.AxesSubplot at 0x7f0a717fa2e8>"
      ]
     },
     "execution_count": 193,
     "metadata": {},
     "output_type": "execute_result"
    },
    {
     "data": {
      "image/png": "[encoded data removed]",
      "text/plain": [
       "<Figure size 432x288 with 1 Axes>"
      ]
     },
     "metadata": {
      "needs_background": "light"
     },
     "output_type": "display_data"
    }
   ],
   "source": [
    "results.plot.barh()"
   ]
  },
  {
   "cell_type": "markdown",
   "metadata": {},
   "source": [
    "Just to check manually in excel"
   ]
  },
  {
   "cell_type": "code",
   "execution_count": 251,
   "metadata": {
    "ExecuteTime": {
     "end_time": "2019-08-28T21:42:55.673364Z",
     "start_time": "2019-08-28T21:42:55.626636Z"
    }
   },
   "outputs": [
    {
     "data": {
      "text/plain": [
       "(0.35207781982421876, 0.3570714285714286)"
      ]
     },
     "execution_count": 251,
     "metadata": {},
     "output_type": "execute_result"
    }
   ],
   "source": [
    "to_exel = valid_df_no_loans.iloc[correct_idx].copy()\n",
    "to_exel['model_preds'] = np.exp(model_preds_l)\n",
    "to_exel['tm_preds'] = np.exp(tm_preds_l)\n",
    "to_exel['actual'] = to_exel['fee']\n",
    "to_exel['model_preds_abs_diff'] = abs(to_exel['fee'] - to_exel['model_preds'])\n",
    "to_exel['tm_preds_abs_diff'] = abs(to_exel['fee'] - to_exel['tm_preds'])\n",
    "to_exel['model_preds_abs_error_perc'] = abs(to_exel['fee'] - to_exel['model_preds'])/to_exel['fee']\n",
    "to_exel['tm_preds_abs_error_perc'] = abs(to_exel['fee'] - to_exel['tm_preds'])/to_exel['fee']\n",
    "to_exel['model_preds_abs_error_perc'].median(), to_exel['tm_preds_abs_error_perc'].median()"
   ]
  },
  {
   "cell_type": "code",
   "execution_count": 252,
   "metadata": {
    "ExecuteTime": {
     "end_time": "2019-08-28T21:43:02.646276Z",
     "start_time": "2019-08-28T21:43:02.515664Z"
    }
   },
   "outputs": [],
   "source": [
    "to_exel.to_csv(path/'final.csv', sep=\";\")"
   ]
  },
  {
   "cell_type": "markdown",
   "metadata": {},
   "source": [
    "Transfermarkt is even significantly worse. And it is powered with crowdsourcing of thousands of people.\n",
    "\n",
    "Model result doesn't look bad, considering it knows nothing about clubs or football itself outside of limited number of features we provide. Which is a tiny fraction of information avaliable (and used by) for experts on transfermarkt.de"
   ]
  },
  {
   "cell_type": "markdown",
   "metadata": {},
   "source": [
    "### Composite mode"
   ]
  },
  {
   "cell_type": "markdown",
   "metadata": {},
   "source": [
    "Let's now take avarage of tranfermarkt's and model's prediction and calculate eror after that"
   ]
  },
  {
   "cell_type": "code",
   "execution_count": 245,
   "metadata": {
    "ExecuteTime": {
     "end_time": "2019-08-28T21:38:02.027023Z",
     "start_time": "2019-08-28T21:38:01.994469Z"
    }
   },
   "outputs": [],
   "source": [
    "comp_preds_l = (tm_preds_l + model_preds_l)/2"
   ]
  },
  {
   "cell_type": "code",
   "execution_count": 248,
   "metadata": {
    "ExecuteTime": {
     "end_time": "2019-08-28T21:40:23.513146Z",
     "start_time": "2019-08-28T21:40:23.478029Z"
    }
   },
   "outputs": [
    {
     "data": {
      "text/plain": [
       "35"
      ]
     },
     "execution_count": 248,
     "metadata": {},
     "output_type": "execute_result"
    }
   ],
   "source": [
    "get_error(pred=tm_preds_l, targ=actuals_l)"
   ]
  },
  {
   "cell_type": "code",
   "execution_count": 249,
   "metadata": {
    "ExecuteTime": {
     "end_time": "2019-08-28T21:40:36.036177Z",
     "start_time": "2019-08-28T21:40:36.002403Z"
    }
   },
   "outputs": [
    {
     "data": {
      "text/plain": [
       "35"
      ]
     },
     "execution_count": 249,
     "metadata": {},
     "output_type": "execute_result"
    }
   ],
   "source": [
    "get_error(pred=model_preds_l, targ=actuals_l)"
   ]
  },
  {
   "cell_type": "code",
   "execution_count": 247,
   "metadata": {
    "ExecuteTime": {
     "end_time": "2019-08-28T21:38:25.492743Z",
     "start_time": "2019-08-28T21:38:25.460474Z"
    }
   },
   "outputs": [
    {
     "data": {
      "text/plain": [
       "32"
      ]
     },
     "execution_count": 247,
     "metadata": {},
     "output_type": "execute_result"
    }
   ],
   "source": [
    "get_error(pred=comp_preds_l, targ=actuals_l)"
   ]
  },
  {
   "cell_type": "markdown",
   "metadata": {},
   "source": [
    "Our composite error driopped from 35% to 32%. That's good"
   ]
  }
 ],
 "metadata": {
  "kernelspec": {
   "display_name": "Python 3",
   "language": "python",
   "name": "python3"
  },
  "language_info": {
   "codemirror_mode": {
    "name": "ipython",
    "version": 3
   },
   "file_extension": ".py",
   "mimetype": "text/x-python",
   "name": "python",
   "nbconvert_exporter": "python",
   "pygments_lexer": "ipython3",
   "version": "3.6.8"
  }
 },
 "nbformat": 4,
 "nbformat_minor": 2
}
